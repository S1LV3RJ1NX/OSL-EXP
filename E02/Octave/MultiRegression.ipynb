{
 "cells": [
  {
   "cell_type": "markdown",
   "metadata": {},
   "source": [
    "# Multiple Linear Regression\n",
    "\n",
    "In this part, you will implement linear regression with multiple variables to predict the\n",
    "prices of houses. Suppose you are selling your house and you want to know what a good market\n",
    "price would be. One way to do this is to first collect information on recent houses sold and make a model of housing prices. The file ex4dataset.txt contains a training set of housing prices. The first column is the size of the house (in square feet), the second column is the number of bedrooms, and the third column is the price of the house."
   ]
  },
  {
   "cell_type": "code",
   "execution_count": 1,
   "metadata": {},
   "outputs": [],
   "source": [
    "%Load Data\n",
    "data = csvread('/home/prathamesh/OSL/E02/ex4dataset.txt'); % can also use load function\n",
    "X = data(:,1:2);\n",
    "y = data(:,3);\n",
    "m = length(y);"
   ]
  },
  {
   "cell_type": "code",
   "execution_count": 2,
   "metadata": {},
   "outputs": [
    {
     "name": "stdout",
     "output_type": "stream",
     "text": [
      "ans =\n",
      "\n",
      "   2104      3\n",
      "   1600      3\n",
      "   2400      3\n",
      "   1416      2\n",
      "   3000      4\n",
      "\n"
     ]
    }
   ],
   "source": [
    "X(1:5,:) % looking at few rows of X"
   ]
  },
  {
   "cell_type": "code",
   "execution_count": 3,
   "metadata": {},
   "outputs": [
    {
     "name": "stdout",
     "output_type": "stream",
     "text": [
      "ans =\n",
      "\n",
      "   399900\n",
      "   329900\n",
      "   369000\n",
      "   232000\n",
      "   539900\n",
      "\n"
     ]
    }
   ],
   "source": [
    "y(1:5) % looking at few rows of y"
   ]
  },
  {
   "cell_type": "code",
   "execution_count": 4,
   "metadata": {},
   "outputs": [],
   "source": [
    "% Feature Normalization\n",
    "function [X_norm, mu, sigma] = normalize(X)\n",
    "    \n",
    "    \n",
    "%   Normalizes the features in X \n",
    "%   normalize(X) returns a normalized version of X where\n",
    "%   the mean value of each feature is 0 and the standard deviation\n",
    "%   is 1. This is often a good preprocessing step to do when\n",
    "%   working with learning algorithms.\n",
    "    \n",
    "    mu = mean(X); % matrix of means of X values\n",
    "    sigma = std(X); % matrix of std's of X    \n",
    "    X_norm = (X - mu) ./ sigma ;\n",
    "\n",
    "end     "
   ]
  },
  {
   "cell_type": "code",
   "execution_count": 5,
   "metadata": {},
   "outputs": [],
   "source": [
    "% Cost function\n",
    "function J = cost(X, y, theta, m)\n",
    "    \n",
    "    J = (1/(2*m)) * (X*theta - y)' * (X*theta -y);\n",
    "    \n",
    "end"
   ]
  },
  {
   "cell_type": "code",
   "execution_count": 6,
   "metadata": {},
   "outputs": [],
   "source": [
    "% Gradient Descent function\n",
    "function [theta, J_history] = gradientDescent(X, y, theta, alpha, num_iters)\n",
    "    \n",
    "    m = length(y); % number of training examples\n",
    "    J_history = zeros(num_iters, 1);\n",
    "\n",
    "    for iter = 1 : num_iters\n",
    "\n",
    "        theta = theta - alpha * (1/m) * X' * (X*theta - y);\n",
    "\n",
    "        J_history(iter) = cost(X, y, theta, m);\n",
    "    end\n",
    "end"
   ]
  },
  {
   "cell_type": "code",
   "execution_count": 7,
   "metadata": {},
   "outputs": [
    {
     "name": "stdout",
     "output_type": "stream",
     "text": [
      "X =\n",
      "\n",
      "   1.3001e-01  -2.2368e-01\n",
      "  -5.0419e-01  -2.2368e-01\n",
      "   5.0248e-01  -2.2368e-01\n",
      "  -7.3572e-01  -1.5378e+00\n",
      "   1.2575e+00   1.0904e+00\n",
      "  -1.9732e-02   1.0904e+00\n",
      "  -5.8724e-01  -2.2368e-01\n",
      "  -7.2188e-01  -2.2368e-01\n",
      "  -7.8102e-01  -2.2368e-01\n",
      "  -6.3757e-01  -2.2368e-01\n",
      "  -7.6357e-02   1.0904e+00\n",
      "  -8.5674e-04  -2.2368e-01\n",
      "  -1.3927e-01  -2.2368e-01\n",
      "   3.1173e+00   2.4045e+00\n",
      "  -9.2196e-01  -2.2368e-01\n",
      "   3.7664e-01   1.0904e+00\n",
      "  -8.5652e-01  -1.5378e+00\n",
      "  -9.6222e-01  -2.2368e-01\n",
      "   7.6547e-01   1.0904e+00\n",
      "   1.2965e+00   1.0904e+00\n",
      "  -2.9405e-01  -2.2368e-01\n",
      "  -1.4179e-01  -1.5378e+00\n",
      "  -4.9916e-01  -2.2368e-01\n",
      "  -4.8673e-02   1.0904e+00\n",
      "   2.3774e+00  -2.2368e-01\n",
      "  -1.1334e+00  -2.2368e-01\n",
      "  -6.8287e-01  -2.2368e-01\n",
      "   6.6103e-01  -2.2368e-01\n",
      "   2.5081e-01  -2.2368e-01\n",
      "   8.0070e-01  -2.2368e-01\n",
      "  -2.0345e-01  -1.5378e+00\n",
      "  -1.2592e+00  -2.8519e+00\n",
      "   4.9477e-02   1.0904e+00\n",
      "   1.4299e+00  -2.2368e-01\n",
      "  -2.3868e-01   1.0904e+00\n",
      "  -7.0930e-01  -2.2368e-01\n",
      "  -9.5845e-01  -2.2368e-01\n",
      "   1.6524e-01   1.0904e+00\n",
      "   2.7864e+00   1.0904e+00\n",
      "   2.0299e-01   1.0904e+00\n",
      "  -4.2366e-01  -1.5378e+00\n",
      "   2.9863e-01  -2.2368e-01\n",
      "   7.1262e-01   1.0904e+00\n",
      "  -1.0075e+00  -2.2368e-01\n",
      "  -1.4454e+00  -1.5378e+00\n",
      "  -1.8709e-01   1.0904e+00\n",
      "  -1.0037e+00  -2.2368e-01\n",
      "\n",
      "mu =\n",
      "\n",
      "   2000.6809      3.1702\n",
      "\n",
      "sigma =\n",
      "\n",
      "   794.70235     0.76098\n",
      "\n"
     ]
    }
   ],
   "source": [
    "[X mu sigma] = normalize(X)"
   ]
  },
  {
   "cell_type": "code",
   "execution_count": 8,
   "metadata": {},
   "outputs": [],
   "source": [
    "% Add column of one to X\n",
    "X = [ones(m,1), X];\n",
    "% Initial settings for Cost function and gradient Descent\n",
    "alpha = 0.01;\n",
    "num_iters = 1500;\n",
    "theta = zeros(3,1);"
   ]
  },
  {
   "cell_type": "code",
   "execution_count": 9,
   "metadata": {
    "scrolled": true
   },
   "outputs": [
    {
     "name": "stdout",
     "output_type": "stream",
     "text": [
      "\n",
      "Initial Cost before running gradient descent 65591548106.457443\n"
     ]
    }
   ],
   "source": [
    "%Initial cost\n",
    "initial_cost = cost(X, y, theta, m);\n",
    "fprintf('\\nInitial Cost before running gradient descent %f\\n', initial_cost);"
   ]
  },
  {
   "cell_type": "code",
   "execution_count": 10,
   "metadata": {},
   "outputs": [
    {
     "name": "stdout",
     "output_type": "stream",
     "text": [
      "\n",
      "Running gradient descent ...\n",
      "warning: function name 'gradientDescentMulti' does not agree with function filename '/home/prathamesh/OSL/E02/Octave/gradientDescent.m'\n",
      "\n",
      "Cost after gradient descent:- 2043283576.637361\n"
     ]
    }
   ],
   "source": [
    "fprintf('\\nRunning gradient descent ...\\n');\n",
    "[theta, J_history] = gradientDescent(X, y, theta, alpha, num_iters);\n",
    "fprintf('\\nCost after gradient descent:- %f\\n', J_history(num_iters));"
   ]
  },
  {
   "cell_type": "code",
   "execution_count": 11,
   "metadata": {
    "scrolled": true
   },
   "outputs": [
    {
     "name": "stdout",
     "output_type": "stream",
     "text": [
      " 340412.563014 \n",
      " 110540.566546 \n",
      " -6558.990548 \n"
     ]
    }
   ],
   "source": [
    "% Theta after computing gradient descent\n",
    "fprintf(' %f \\n', theta);"
   ]
  },
  {
   "cell_type": "code",
   "execution_count": 12,
   "metadata": {
    "scrolled": true
   },
   "outputs": [
    {
     "name": "stdout",
     "output_type": "stream",
     "text": [
      "\n",
      "Predicted price of a 1650 sq-ft, 3 room house: $293101.056857\n"
     ]
    }
   ],
   "source": [
    "%Predict price\n",
    "predict = [1650 3];\n",
    "predict_norm = (predict .- mu) ./ sigma;\n",
    "predict_norm = [ones(1,1) predict_norm];\n",
    "price = predict_norm * theta;\n",
    "\n",
    "fprintf('\\nPredicted price of a 1650 sq-ft, 3 room house: $%f\\n', price);\n"
   ]
  },
  {
   "cell_type": "code",
   "execution_count": 13,
   "metadata": {},
   "outputs": [],
   "source": [
    "%Observing the effect of different learning rates \n",
    "%on convergence of Gradient Descent\n",
    "num_iters = 100;\n",
    "\n",
    "alpha = [0.3; 0.1; 0.03; 0.01]; \n",
    "\n",
    "[_, J1] = gradientDescent(X, y, zeros(3,1), alpha(1), num_iters);\n",
    "[_, J2] = gradientDescent(X, y, zeros(3,1), alpha(2), num_iters);\n",
    "[_, J3] = gradientDescent(X, y, zeros(3,1), alpha(3), num_iters);\n",
    "[_, J4] = gradientDescent(X, y, zeros(3,1), alpha(4), num_iters);"
   ]
  },
  {
   "cell_type": "code",
   "execution_count": 14,
   "metadata": {},
   "outputs": [
    {
     "data": {
      "image/png": "[encoded data removed]",
      "text/plain": [
       "<IPython.core.display.Image object>"
      ]
     },
     "metadata": {},
     "output_type": "display_data"
    }
   ],
   "source": [
    "xlabel('Number of iterations');\n",
    "ylabel('Cost J');\n",
    "plot(1:numel(J1),[J1,J2,J3,J4],'LineWidth', 2); % numel -> no of elements\n",
    "legend('alpha: 0.3', 'alpha: 0.1', 'alpha: 0.03', 'alpha: 0.01');   "
   ]
  }
 ],
 "metadata": {
  "kernelspec": {
   "display_name": "Octave",
   "language": "octave",
   "name": "octave"
  },
  "language_info": {
   "file_extension": ".m",
   "help_links": [
    {
     "text": "GNU Octave",
     "url": "https://www.gnu.org/software/octave/support.html"
    },
    {
     "text": "Octave Kernel",
     "url": "https://github.com/Calysto/octave_kernel"
    },
    {
     "text": "MetaKernel Magics",
     "url": "https://github.com/calysto/metakernel/blob/master/metakernel/magics/README.md"
    }
   ],
   "mimetype": "text/x-octave",
   "name": "octave",
   "version": "4.2.2"
  }
 },
 "nbformat": 4,
 "nbformat_minor": 2
}
